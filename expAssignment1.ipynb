{
 "cells": [
  {
   "cell_type": "markdown",
   "id": "9ecceb22-260f-4aa3-9d06-5e6904f100b3",
   "metadata": {},
   "source": [
    "Q1. What is an Exception in python? Write the difference between Exception and Syntax errors."
   ]
  },
  {
   "cell_type": "markdown",
   "id": "5c3d5f80-ff15-4dc7-ae9f-2071802770e2",
   "metadata": {},
   "source": [
    "Ams:- An Exception is an error that occurs during the execution of a program, disrupting the normal flow of the program. When an exceptional situation arises, Python raises an exception to handle the error gracefully and provide information about what went wrong. This allows the program to take appropriate actions to recover or terminate gracefully without crashing.\n",
    "\n",
    "1.Exceptions:\n",
    "Exceptions are runtime errors that occur during the execution of the program.\n",
    "They are raised when the interpreter encounters an unexpected condition or situation that prevents the code from continuing normally.\n",
    "Examples of exceptions include ZeroDivisionError (dividing by zero), IndexError (index out of range), ValueError (invalid input type), FileNotFoundError (file not found), etc.\n",
    "Exceptions can be caught and handled using try-except blocks, allowing the program to continue its execution or handle the error gracefully.\n",
    "\n",
    "1.Syntax Errors:\n",
    "Syntax errors are detected by the Python interpreter during the parsing of the code, before the program starts executing.\n",
    "They occur when the code violates the rules of the Python language and doesn't conform to its syntax rules.\n",
    "Examples of syntax errors include misspelled keywords, missing colons, unbalanced parentheses, and other mistakes in the code's structure.\n",
    "Unlike exceptions, syntax errors cannot be caught and handled using try-except blocks because they prevent the program from running at all."
   ]
  },
  {
   "cell_type": "markdown",
   "id": "095e77a3-9420-44e2-a528-a2d55fe28c0f",
   "metadata": {},
   "source": [
    "Q2. What happens when an exception is not handled? Explain with an example."
   ]
  },
  {
   "cell_type": "markdown",
   "id": "f9b2cc48-6ce2-45b1-8bbe-73d49e9c4c64",
   "metadata": {},
   "source": [
    "Ans:- When an exception is not handled, it leads to an \"unhandled exception\" scenario, and the normal flow of the program is disrupted. The program terminates abruptly, and an error message is displayed, providing information about the exception that occurred. In many programming languages, this results in a stack trace, which shows the sequence of function calls that led to the exception."
   ]
  },
  {
   "cell_type": "code",
   "execution_count": 5,
   "id": "aaab222f-4c4e-4f6c-bb30-6f7742d38784",
   "metadata": {},
   "outputs": [
    {
     "name": "stdin",
     "output_type": "stream",
     "text": [
      "Enter the first number:  4\n",
      "Enter the second number:  5\n"
     ]
    },
    {
     "name": "stdout",
     "output_type": "stream",
     "text": [
      "The result of division is: 0.8\n"
     ]
    }
   ],
   "source": [
    "def divide_numbers(a, b):\n",
    "    result = a / b\n",
    "    return result\n",
    "\n",
    "try:\n",
    "    num1 = int(input(\"Enter the first number: \"))\n",
    "    num2 = int(input(\"Enter the second number: \"))\n",
    "    result = divide_numbers(num1, num2)\n",
    "    print(f\"The result of division is: {result}\")\n",
    "except ValueError:\n",
    "    print(\"Invalid input! Please enter valid integers.\")"
   ]
  },
  {
   "cell_type": "markdown",
   "id": "754f8b35-7670-416f-828b-ecd6887fec6d",
   "metadata": {},
   "source": [
    "Q3. Which Python statements are used to catch and handle exceptions? Explain with an example."
   ]
  },
  {
   "cell_type": "code",
   "execution_count": 6,
   "id": "cfc7ddb1-0c71-4707-9822-89f489e7fd61",
   "metadata": {},
   "outputs": [
    {
     "name": "stdout",
     "output_type": "stream",
     "text": [
      "Error: Cannot divide by zero!\n"
     ]
    }
   ],
   "source": [
    "def divide_numbers(a, b):\n",
    "    try:\n",
    "        result = a / b\n",
    "        return result\n",
    "    except ZeroDivisionError:\n",
    "        print(\"Error: Cannot divide by zero!\")\n",
    "        return None\n",
    "\n",
    "def main():\n",
    "    num1 = 10\n",
    "    num2 = 0\n",
    "\n",
    "    result = divide_numbers(num1, num2)\n",
    "    if result is not None:\n",
    "        print(\"The result of the division is:\", result)\n",
    "\n",
    "if __name__ == \"__main__\":\n",
    "    main()\n"
   ]
  },
  {
   "cell_type": "markdown",
   "id": "d2d6d6a5-c939-46ee-93cb-d211ba0ebd91",
   "metadata": {},
   "source": [
    "Q4. Explain with an example:\n",
    "\n",
    "a. try and else\n",
    "\n",
    "b. finally\n",
    "\n",
    "c. raise"
   ]
  },
  {
   "cell_type": "markdown",
   "id": "a6557a19-718b-439f-bb2a-1cc905359c1e",
   "metadata": {},
   "source": [
    "Ams:- a. try and else:\n",
    "\n",
    "The try and else blocks work together to handle exceptions and execute code that should run only when no exceptions occur. The else block is executed only if no exception is raised in the try block.\n",
    "\n",
    "b. finally:\n",
    "\n",
    "The finally block is used to define code that should be executed regardless of whether an exception occurs or not. This block will always be executed, regardless of whether an exception is caught or propagated.\n",
    "\n",
    "c. raise:\n",
    "\n",
    "The raise statement is used to raise custom exceptions or propagate exceptions to the calling code."
   ]
  },
  {
   "cell_type": "code",
   "execution_count": 1,
   "id": "d9bb5794-9014-4ddf-b765-0f16995a58b9",
   "metadata": {},
   "outputs": [
    {
     "name": "stdout",
     "output_type": "stream",
     "text": [
      "when ever try block sucess full execute than else block will be excute\n"
     ]
    }
   ],
   "source": [
    "try:\n",
    "    f=open(\"pws.txt\",'w')\n",
    "    f.write(\"this is write txt\")\n",
    "    \n",
    "except Exception as e:\n",
    "    print(\"that is a person\")\n",
    "else:\n",
    "    f.close()\n",
    "    print(\"when ever try block sucess full execute than else block will be excute\")"
   ]
  },
  {
   "cell_type": "code",
   "execution_count": 2,
   "id": "d4e484e8-914e-4a44-8e71-e08def675a02",
   "metadata": {},
   "outputs": [
    {
     "name": "stdout",
     "output_type": "stream",
     "text": [
      "THat wil excute hi excute:\n"
     ]
    },
    {
     "ename": "FileNotFoundError",
     "evalue": "[Errno 2] No such file or directory: 'pwsk.txt'",
     "output_type": "error",
     "traceback": [
      "\u001b[0;31m---------------------------------------------------------------------------\u001b[0m",
      "\u001b[0;31mFileNotFoundError\u001b[0m                         Traceback (most recent call last)",
      "Cell \u001b[0;32mIn[2], line 2\u001b[0m\n\u001b[1;32m      1\u001b[0m \u001b[38;5;28;01mtry\u001b[39;00m:\n\u001b[0;32m----> 2\u001b[0m     f\u001b[38;5;241m=\u001b[39m\u001b[38;5;28;43mopen\u001b[39;49m\u001b[43m(\u001b[49m\u001b[38;5;124;43m\"\u001b[39;49m\u001b[38;5;124;43mpwsk.txt\u001b[39;49m\u001b[38;5;124;43m\"\u001b[39;49m\u001b[43m,\u001b[49m\u001b[38;5;124;43m'\u001b[39;49m\u001b[38;5;124;43mr\u001b[39;49m\u001b[38;5;124;43m'\u001b[39;49m\u001b[43m)\u001b[49m\n\u001b[1;32m      3\u001b[0m     f\u001b[38;5;241m.\u001b[39mwrite(\u001b[38;5;124m\"\u001b[39m\u001b[38;5;124mfinally\u001b[39m\u001b[38;5;124m\"\u001b[39m)\n\u001b[1;32m      4\u001b[0m \u001b[38;5;28;01mfinally\u001b[39;00m:\n",
      "File \u001b[0;32m/opt/conda/lib/python3.10/site-packages/IPython/core/interactiveshell.py:282\u001b[0m, in \u001b[0;36m_modified_open\u001b[0;34m(file, *args, **kwargs)\u001b[0m\n\u001b[1;32m    275\u001b[0m \u001b[38;5;28;01mif\u001b[39;00m file \u001b[38;5;129;01min\u001b[39;00m {\u001b[38;5;241m0\u001b[39m, \u001b[38;5;241m1\u001b[39m, \u001b[38;5;241m2\u001b[39m}:\n\u001b[1;32m    276\u001b[0m     \u001b[38;5;28;01mraise\u001b[39;00m \u001b[38;5;167;01mValueError\u001b[39;00m(\n\u001b[1;32m    277\u001b[0m         \u001b[38;5;124mf\u001b[39m\u001b[38;5;124m\"\u001b[39m\u001b[38;5;124mIPython won\u001b[39m\u001b[38;5;124m'\u001b[39m\u001b[38;5;124mt let you open fd=\u001b[39m\u001b[38;5;132;01m{\u001b[39;00mfile\u001b[38;5;132;01m}\u001b[39;00m\u001b[38;5;124m by default \u001b[39m\u001b[38;5;124m\"\u001b[39m\n\u001b[1;32m    278\u001b[0m         \u001b[38;5;124m\"\u001b[39m\u001b[38;5;124mas it is likely to crash IPython. If you know what you are doing, \u001b[39m\u001b[38;5;124m\"\u001b[39m\n\u001b[1;32m    279\u001b[0m         \u001b[38;5;124m\"\u001b[39m\u001b[38;5;124myou can use builtins\u001b[39m\u001b[38;5;124m'\u001b[39m\u001b[38;5;124m open.\u001b[39m\u001b[38;5;124m\"\u001b[39m\n\u001b[1;32m    280\u001b[0m     )\n\u001b[0;32m--> 282\u001b[0m \u001b[38;5;28;01mreturn\u001b[39;00m \u001b[43mio_open\u001b[49m\u001b[43m(\u001b[49m\u001b[43mfile\u001b[49m\u001b[43m,\u001b[49m\u001b[43m \u001b[49m\u001b[38;5;241;43m*\u001b[39;49m\u001b[43margs\u001b[49m\u001b[43m,\u001b[49m\u001b[43m \u001b[49m\u001b[38;5;241;43m*\u001b[39;49m\u001b[38;5;241;43m*\u001b[39;49m\u001b[43mkwargs\u001b[49m\u001b[43m)\u001b[49m\n",
      "\u001b[0;31mFileNotFoundError\u001b[0m: [Errno 2] No such file or directory: 'pwsk.txt'"
     ]
    }
   ],
   "source": [
    "try:\n",
    "    f=open(\"pwsk.txt\",'r')\n",
    "    f.write(\"finally\")\n",
    "finally:\n",
    "    print(\"THat wil excute hi excute:\")"
   ]
  },
  {
   "cell_type": "code",
   "execution_count": 6,
   "id": "2e8286b9-34e2-4b8a-9366-d0777d1f7fe8",
   "metadata": {},
   "outputs": [
    {
     "name": "stdout",
     "output_type": "stream",
     "text": [
      "Custom Error: x should be a positive value.\n"
     ]
    }
   ],
   "source": [
    "class CustomError(Exception):\n",
    "    pass\n",
    "\n",
    "def some_function(x):\n",
    "    if x < 0:\n",
    "        raise CustomError(\"x should be a positive value.\")\n",
    "    return x\n",
    "\n",
    "try:\n",
    "    value = some_function(-2)\n",
    "except CustomError as e:\n",
    "    print(\"Custom Error:\", str(e))\n",
    "else:\n",
    "    print(\"The value is:\", value)\n"
   ]
  },
  {
   "cell_type": "markdown",
   "id": "aeebf186-c36e-4f8c-b561-c72881cbec66",
   "metadata": {},
   "source": [
    "Q5. What are Custom Exceptions in python? Why do we need Custom Exceptions? Explain with an example."
   ]
  },
  {
   "cell_type": "markdown",
   "id": "5c870753-03e9-4668-a505-6b99ecb8f8b8",
   "metadata": {},
   "source": [
    "Ans:- Custom Exceptions in Python are user-defined exception classes that allow you to create your own specific exception types to handle unique error scenarios in your code. They are derived from the base Exception class or any of its subclasses. By creating custom exceptions, you can provide more meaningful error messages and distinguish between different types of exceptional situations, making your code more expressive and easier to maintain.\n",
    "Specific Error Handling: Custom exceptions allow you to handle specific error cases with precision. Different types of exceptions can be raised for distinct problems, making it easier to identify and handle them appropriately.\n",
    "\n",
    "Clarity and Readability: By creating custom exceptions with descriptive names, the code becomes more readable and self-documenting. It improves code maintainability, as developers can quickly understand the nature of the exception and take appropriate action.\n",
    "\n",
    "Modularity and Reusability: Custom exceptions can be reused in multiple parts of your codebase, providing consistency in error handling across different modules or functions.\n",
    "\n",
    "Enhanced Debugging: Custom exceptions can carry additional information, such as error codes or relevant data, that can help with debugging and troubleshooting.\n"
   ]
  },
  {
   "cell_type": "code",
   "execution_count": 1,
   "id": "d443fff0-cdfe-4a76-a1ed-05fa12a9eb1b",
   "metadata": {},
   "outputs": [
    {
     "name": "stdout",
     "output_type": "stream",
     "text": [
      "Withdrawing 500 dollars. Remaining balance: 500\n",
      "Error: Insufficient funds. Current balance: 1000, Attempted withdrawal amount: 1500\n"
     ]
    }
   ],
   "source": [
    "class InsufficientFundsError(Exception):\n",
    "    def __init__(self, balance, amount):\n",
    "        super().__init__(f\"Insufficient funds. Current balance: {balance}, Attempted withdrawal amount: {amount}\")\n",
    "        self.balance = balance\n",
    "        self.amount = amount\n",
    "\n",
    "def withdraw_money(balance, amount):\n",
    "    if amount <= 0:\n",
    "        raise ValueError(\"Amount to withdraw must be greater than zero.\")\n",
    "    if amount > balance:\n",
    "        raise InsufficientFundsError(balance, amount)\n",
    "    print(f\"Withdrawing {amount} dollars. Remaining balance: {balance - amount}\")\n",
    "\n",
    "def main():\n",
    "    try:\n",
    "        balance = 1000\n",
    "        withdraw_money(balance, 500)\n",
    "        withdraw_money(balance, 1500)\n",
    "        withdraw_money(balance, -200) \n",
    "    except InsufficientFundsError as e:\n",
    "        print(\"Error:\", str(e))\n",
    "    except ValueError as e:\n",
    "        print(\"ValueError:\", str(e))\n",
    "\n",
    "if __name__ == \"__main__\":\n",
    "    main()\n"
   ]
  },
  {
   "cell_type": "markdown",
   "id": "eca6cfd4-c46a-4799-9581-6fd1c3f22209",
   "metadata": {},
   "source": [
    "Q6. Create a custom exception class. Use this class to handle an exception."
   ]
  },
  {
   "cell_type": "code",
   "execution_count": 7,
   "id": "db17e1b6-d7ad-459c-92bb-fbb6f71128b0",
   "metadata": {},
   "outputs": [
    {
     "name": "stdout",
     "output_type": "stream",
     "text": [
      "Error: Cannot calculate square root of a negative number.\n"
     ]
    }
   ],
   "source": [
    "class InvalidInputError(Exception):\n",
    "    def __init__(self, message):\n",
    "        super().__init__(message)\n",
    "\n",
    "def calculate_square_root(number):\n",
    "    if number < 0:\n",
    "        raise InvalidInputError(\"Cannot calculate square root of a negative number.\")\n",
    "    return number ** 0.5\n",
    "\n",
    "def main():\n",
    "    try:\n",
    "        num = -9\n",
    "        result = calculate_square_root(num)\n",
    "        print(f\"The square root of {num} is: {result}\")\n",
    "    except InvalidInputError as e:\n",
    "        print(\"Error:\", str(e))\n",
    "\n",
    "if __name__ == \"__main__\":\n",
    "    main()\n"
   ]
  }
 ],
 "metadata": {
  "kernelspec": {
   "display_name": "Python 3 (ipykernel)",
   "language": "python",
   "name": "python3"
  },
  "language_info": {
   "codemirror_mode": {
    "name": "ipython",
    "version": 3
   },
   "file_extension": ".py",
   "mimetype": "text/x-python",
   "name": "python",
   "nbconvert_exporter": "python",
   "pygments_lexer": "ipython3",
   "version": "3.10.8"
  }
 },
 "nbformat": 4,
 "nbformat_minor": 5
}
